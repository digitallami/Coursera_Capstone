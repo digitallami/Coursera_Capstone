{
 "cells": [
  {
   "cell_type": "markdown",
   "metadata": {
    "collapsed": true
   },
   "source": [
    "# 1. Introduction Section:\n",
    "## Discussion of the business problem and the audience who would be interested in this project.\n",
    "## 1.1 Scenario and Background\n"
   ]
  },
  {
   "cell_type": "markdown",
   "metadata": {},
   "source": [
    "I am a business analyst who advises start-ups on business decisions from start up to execution. I have a client- Yahuza Suya- A chain of 24 hour Nigerian-style barbeque stops who have been operating in the United Kingdom, the Middle-East and is considering expansion into North America.\n",
    "Yahuza will like to open a chain in Toronto, capitalising on the population, the rising number of immigrants from Africa (Nigeria in particular) as well as the metropolitan life. In the 2016 Census, 51,800 people identified themselves as Nigerians, with over half living in Ontario. -Wikipedia\n",
    "In addition, Toronto is home to a large population of young, upwardly mobile professionals who are adventurous and willing to try out other cuisines. \n",
    "Yahuza suya places safety and security as the top priority in choosing the location. This is because the business runs for 24 hours and they need to ensure that the staff and customers feel safe. The location should also be a place that gives easy access to people of above-average household income. This is because the products are a bit pricier than the average barbeque round the world. \n",
    "In addition to security and the pricing target, other attractions that will favour their business is footfall from tourists and people who just moved into Toronto and will like a taste of food they are familiar with. This implies that a place that is close to airports, hotels and inns will be a good location. The target ages for this business is people between 25 and 45. This is because millennials and gen Z shoppers can use their social network and influencer lifestyle to increase patronage through word of mouth. \n"
   ]
  },
  {
   "cell_type": "markdown",
   "metadata": {},
   "source": [
    "## 1.2 Problem to be resolved"
   ]
  },
  {
   "cell_type": "markdown",
   "metadata": {},
   "source": [
    "The challenge to capitalise on the population of a vibrant population while still retaining safety and security. Other factors will be strongly beneficial to the business. While the location should be safe, it is important to consider commuters and tourists who come through airports and bus/train stations. \n",
    "Ideally, the restaurant should be in the safest neighbourhood possible, and:\n",
    "•\tWithin walking distance (<= 3 km) from a metro station or airport in Toronto\n",
    "•\tShould be close to neighbourhoods with above-average income households (within radius of 10km\n",
    "These factors will give us indices to compare. "
   ]
  },
  {
   "cell_type": "markdown",
   "metadata": {},
   "source": [
    "## 1.3 Interested Audience"
   ]
  },
  {
   "cell_type": "markdown",
   "metadata": {},
   "source": [
    "Canada has become one of the countries in the world that welcomes the most immigrants.  For many of them, they need to make important decisions on where to live, where to work, or where to start a business. Some of the analysis from this project will enable people make these decisions.  While it is easier to ask questions and get answers from people which may be biased, decisions made using such analysis as this will be based on empirical data and objective.\n",
    "\n",
    "This project can also help aspiring data scientists see a practical use of Foursquare API and other data which may not seem useful except in practical use."
   ]
  },
  {
   "cell_type": "markdown",
   "metadata": {},
   "source": [
    "# 2 Data Description"
   ]
  },
  {
   "cell_type": "markdown",
   "metadata": {},
   "source": [
    "To consider the objective stated above, we can list the below data sources used for the analysis.\n",
    "\n",
    "a)\tFoursquare data to explore the neighbourhoods in Toronto and collect information on airports, metro stations and hotels. This will form the basis of the clustering.\n",
    "\n",
    "b)\tToronto Crime data: To understand and rate the crime rates according to neighbourhoods and boroughs. We will use this to eliminate some locations based on the criteria given by the business owner.\n",
    "\n",
    "\n",
    "c)\tToronto profile data: From this, we will be analysing household income using the National Household Survey( We will be cautious here as much of the data is deemed unreliable by the agency responsible(https://www.toronto.ca/city-government/data-research-maps/neighbourhoods-communities/nia-profiles/). We will also use this data to eliminate some locations.\n",
    "\n",
    "d)\tToronto neighbourhood data from Wikipedia: Will use BeautifulSoup to scrape data from Wikipedia. This will allow us to analyse the data by boroughs and postal codes so that we can match neighbourhoods to boroughs\n",
    "\n",
    "e)\tb) Coordinate data for each Neighborhood in Toronto: this will give us the geographical coordinates of each postal code:  http://cocl.us/Geospatial_data. Through this, we can merge dataframes for analysis.\n"
   ]
  }
 ],
 "metadata": {
  "kernelspec": {
   "display_name": "Python 3.6",
   "language": "python",
   "name": "python3"
  },
  "language_info": {
   "codemirror_mode": {
    "name": "ipython",
    "version": 3
   },
   "file_extension": ".py",
   "mimetype": "text/x-python",
   "name": "python",
   "nbconvert_exporter": "python",
   "pygments_lexer": "ipython3",
   "version": "3.6.8"
  }
 },
 "nbformat": 4,
 "nbformat_minor": 1
}
